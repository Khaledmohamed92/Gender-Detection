{
 "cells": [
  {
   "cell_type": "code",
   "execution_count": 1,
   "metadata": {},
   "outputs": [
    {
     "name": "stdout",
     "output_type": "stream",
     "text": [
      "Done Loading files and converting\n"
     ]
    }
   ],
   "source": [
    "#This code create gmm file of waves files for females\n",
    "\n",
    "import os\n",
    "import _pickle as cPickle\n",
    "import numpy as np\n",
    "from scipy.io.wavfile import read\n",
    "from sklearn.mixture import GMM \n",
    "import python_speech_features as mfcc\n",
    "from sklearn import preprocessing\n",
    "import warnings\n",
    "warnings.filterwarnings(\"ignore\")\n",
    "\n",
    "def get_MFCC(sr,audio):\n",
    "    features = mfcc.mfcc(audio,sr, 0.025, 0.01, 13,appendEnergy = False)\n",
    "    features = preprocessing.scale(features)\n",
    "    return features\n",
    "\n",
    "#path to training data\n",
    "source   = \"wav\\\\pygender\\\\female\"\n",
    "#path to save trained model   \n",
    "dest     = \"model_destination\\\\\"         \n",
    "files    = [os.path.join(source,f) for f in os.listdir(source) if \n",
    "             f.endswith('.wav')] \n",
    "features = np.asarray(());\n",
    "for f in files:\n",
    "    sr,audio = read(f)\n",
    "    vector   = get_MFCC(sr,audio)\n",
    "    if features.size == 0:\n",
    "        features = vector\n",
    "    else:\n",
    "        features = np.vstack((features, vector))\n",
    "gmm = GMM(n_components = 8, n_iter = 200, covariance_type='diag',\n",
    "        n_init = 3)\n",
    "gmm.fit(features)\n",
    "picklefile = \"female\"+\".gmm\"\n",
    "# model saved as .gmm\n",
    "cPickle.dump(gmm,open(dest + picklefile,'wb'))\n",
    "print(\"Done Loading files and converting\")"
   ]
  },
  {
   "cell_type": "code",
   "execution_count": 2,
   "metadata": {},
   "outputs": [
    {
     "name": "stdout",
     "output_type": "stream",
     "text": [
      "Done Loading files and converting\n"
     ]
    }
   ],
   "source": [
    "#This code create gmm file of waves files for males\n",
    "\n",
    "import os\n",
    "import _pickle as cPickle\n",
    "import numpy as np\n",
    "from scipy.io.wavfile import read\n",
    "from sklearn.mixture import GMM \n",
    "import python_speech_features as mfcc\n",
    "from sklearn import preprocessing\n",
    "import warnings\n",
    "warnings.filterwarnings(\"ignore\")\n",
    "\n",
    "def get_MFCC(sr,audio):\n",
    "    features = mfcc.mfcc(audio,sr, 0.025, 0.01, 13,appendEnergy = False)\n",
    "    features = preprocessing.scale(features)\n",
    "    return features\n",
    "\n",
    "#path to training data\n",
    "source   = \"wav\\\\pygender\\\\male\"\n",
    "#path to save trained model   \n",
    "dest     = \"model_destination\\\\\"         \n",
    "files    = [os.path.join(source,f) for f in os.listdir(source) if \n",
    "             f.endswith('.wav')] \n",
    "features = np.asarray(());\n",
    "for f in files:\n",
    "    sr,audio = read(f)\n",
    "    vector   = get_MFCC(sr,audio)\n",
    "    if features.size == 0:\n",
    "        features = vector\n",
    "    else:\n",
    "        features = np.vstack((features, vector))\n",
    "gmm = GMM(n_components = 8, n_iter = 200, covariance_type='diag',\n",
    "        n_init = 3)\n",
    "gmm.fit(features)\n",
    "picklefile = \"male\"+\".gmm\"\n",
    "# model saved as .gmm\n",
    "cPickle.dump(gmm,open(dest + picklefile,'wb'))\n",
    "print(\"Done Loading files and converting\")"
   ]
  },
  {
   "cell_type": "code",
   "execution_count": null,
   "metadata": {
    "collapsed": true
   },
   "outputs": [],
   "source": []
  }
 ],
 "metadata": {
  "kernelspec": {
   "display_name": "Python [default]",
   "language": "python",
   "name": "python3"
  },
  "language_info": {
   "codemirror_mode": {
    "name": "ipython",
    "version": 3
   },
   "file_extension": ".py",
   "mimetype": "text/x-python",
   "name": "python",
   "nbconvert_exporter": "python",
   "pygments_lexer": "ipython3",
   "version": "3.6.3"
  }
 },
 "nbformat": 4,
 "nbformat_minor": 2
}
