{
 "cells": [
  {
   "cell_type": "code",
   "execution_count": 3,
   "metadata": {},
   "outputs": [
    {
     "name": "stderr",
     "output_type": "stream",
     "text": [
      "WARNING:root:frame length (1200) is greater than FFT size (512), frame will be truncated. Increase NFFT to avoid.\n"
     ]
    },
    {
     "name": "stdout",
     "output_type": "stream",
     "text": [
      "Recording (7) (1).wav\n",
      "\tdetected as -  male \n",
      "\tscores:female  -14351.4389521 ,male  -14301.9531847 \n",
      "\n"
     ]
    }
   ],
   "source": [
    "#THIS code to train our model using gmm files created before, NOTING THAT the test file should be in .wav FORMAT\n",
    "import os\n",
    "import _pickle as cPickle\n",
    "import numpy as np\n",
    "from scipy.io.wavfile import read\n",
    "import python_speech_features as mfcc\n",
    "from sklearn import preprocessing\n",
    "import warnings\n",
    "warnings.filterwarnings(\"ignore\")\n",
    "\n",
    "def get_MFCC(sr,audio):\n",
    "    features = mfcc.mfcc(audio,sr, 0.025, 0.01, 13,appendEnergy = False)\n",
    "    feat     = np.asarray(())\n",
    "    for i in range(features.shape[0]):\n",
    "        temp = features[i,:]\n",
    "        if np.isnan(np.min(temp)):\n",
    "            continue\n",
    "        else:\n",
    "            if feat.size == 0:\n",
    "                feat = temp\n",
    "            else:\n",
    "                feat = np.vstack((feat, temp))\n",
    "    features = feat;\n",
    "    features = preprocessing.scale(features)\n",
    "    return features\n",
    "\n",
    "#path to testing data\n",
    "sourcepath = \"testFolder\"      \n",
    "#path to saved models    \n",
    "modelpath  = \"model_destination\\\\\"   \n",
    "\n",
    "gmm_files = [os.path.join(modelpath,fname) for fname in \n",
    "              os.listdir(modelpath) if fname.endswith('.gmm')]\n",
    "models    = [cPickle.load(open(fname,'rb')) for fname in gmm_files]\n",
    "genders   = [fname.split(\"\\\\\")[-1].split(\".gmm\")[0] for fname \n",
    "              in gmm_files]\n",
    "files     = [os.path.join(sourcepath,f) for f in os.listdir(sourcepath) \n",
    "              if f.endswith(\".wav\")] \n",
    "\n",
    "for f in files:\n",
    "    print(f.split(\"\\\\\")[-1])\n",
    "    sr, audio  = read(f)\n",
    "    features   = get_MFCC(sr,audio)\n",
    "    scores     = None\n",
    "    log_likelihood = np.zeros(len(models))\n",
    "    for i in range(len(models)):\n",
    "        gmm    = models[i]         #checking with each model one by one\n",
    "        scores = np.array(gmm.score(features))\n",
    "        log_likelihood[i] = scores.sum()\n",
    "    winner = np.argmax(log_likelihood)\n",
    "    genders[winner]\n",
    "print(\"\\tdetected as - \", genders[winner],\"\\n\\tscores:female \",log_likelihood[0],\",male \", log_likelihood[1],\"\\n\")"
   ]
  },
  {
   "cell_type": "code",
   "execution_count": null,
   "metadata": {
    "collapsed": true
   },
   "outputs": [],
   "source": []
  },
  {
   "cell_type": "code",
   "execution_count": null,
   "metadata": {
    "collapsed": true
   },
   "outputs": [],
   "source": []
  }
 ],
 "metadata": {
  "kernelspec": {
   "display_name": "Python [default]",
   "language": "python",
   "name": "python3"
  },
  "language_info": {
   "codemirror_mode": {
    "name": "ipython",
    "version": 3
   },
   "file_extension": ".py",
   "mimetype": "text/x-python",
   "name": "python",
   "nbconvert_exporter": "python",
   "pygments_lexer": "ipython3",
   "version": "3.6.3"
  }
 },
 "nbformat": 4,
 "nbformat_minor": 2
}
